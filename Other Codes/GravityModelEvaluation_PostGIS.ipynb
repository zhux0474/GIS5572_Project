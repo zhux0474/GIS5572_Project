{
 "cells": [
  {
   "cell_type": "code",
   "execution_count": 1,
   "metadata": {},
   "outputs": [],
   "source": [
    "import arcpy\n",
    "from arcpy import env\n",
    "import pandas as pd\n",
    "import json\n",
    "import statistics\n",
    "import math\n",
    "import numpy as np"
   ]
  },
  {
   "cell_type": "markdown",
   "metadata": {},
   "source": [
    "# Calculating Z-Score for Gravity Models Results"
   ]
  },
  {
   "cell_type": "markdown",
   "metadata": {},
   "source": [
    "### Z-Score for Gravity Model Population "
   ]
  },
  {
   "cell_type": "code",
   "execution_count": 16,
   "metadata": {},
   "outputs": [
    {
     "data": {
      "text/html": [
       "<div class='gpresult'><h2>Messages</h2><div id='messages' data-messages='[\"Start Time: Thursday, May 12, 2022 5:36:54 PM\",\"Adding zscore to AccuracyResult_Pop2...\",\"Succeeded at Thursday, May 12, 2022 5:36:54 PM (Elapsed Time: 0.16 seconds)\"]' data-show='true'><div id = 'default' /></div></div>"
      ],
      "text/plain": [
       "<Result 'AccuracyResult_Pop2'>"
      ]
     },
     "execution_count": 16,
     "metadata": {},
     "output_type": "execute_result"
    }
   ],
   "source": [
    "#create a table to summarize the accuracy assessment result\n",
    "arcpy.management.CreateTable(r\"C:\\Users\\zhux1\\OneDrive\\Desktop\\GIS5572\\FinalProject\\FinalProject\\FinalProject.gdb\",\"AccuracyResult_Pop\")\n",
    "\n",
    "arcpy.management.AddField(\"AccuracyResult_Pop\",\"station\",\"TEXT\")\n",
    "arcpy.management.AddField(\"AccuracyResult_Pop\",\"value \",\"TEXT\") \n",
    "arcpy.management.AddField(\"AccuracyResult_Pop\",\"zscore\",\"FLOAT\") "
   ]
  },
  {
   "cell_type": "code",
   "execution_count": 2,
   "metadata": {},
   "outputs": [],
   "source": [
    "# Gravity Model with Population"
   ]
  },
  {
   "cell_type": "code",
   "execution_count": 28,
   "metadata": {},
   "outputs": [
    {
     "name": "stdout",
     "output_type": "stream",
     "text": [
      "mean: 0.0008899157932671553 standarddeviaiton: 0.005286848679975591\n",
      "outlier in dataset is [48.20059867911888, 3.3230951814784984, 3.2399277335684835, 3.8813450157661]\n"
     ]
    }
   ],
   "source": [
    "array=[]#empty list to store z score\n",
    "table=r'C:\\Users\\zhux1\\OneDrive\\Desktop\\GIS5572\\FinalProject\\FinalProject\\FinalProject.gdb\\GravityModel_Pop'\n",
    "fieldname=['GNIS_FEATU','FEATURE_NA','CTU_CLASS','COUNTY_NAM','station','name','elevation','maxtemp','nlcd_land','attractive','GHCND_CA00','GHCND_USC0','GHCND_US_1','GHCND_US_2','GHCND_US_3','GHCND_US_4','GHCND_US_5','GHCND_US_6','GHCND_US_7','GHCND_US_8','GHCND_US_9','GHCND_U_10','GHCND_U_11','GHCND_U_12','GHCND_U_13','GHCND_U_14','GHCND_U_15','GHCND_U_16','GHCND_U_17','GHCND_U_18','GHCND_U_19','GHCND_U_20','GHCND_U_21','GHCND_U_22','GHCND_U_23','GHCND_U_24','GHCND_U_25','GHCND_U_26','GHCND_U_27','GHCND_U_28','GHCND_U_29','GHCND_U_30','GHCND_U_31','GHCND_U_32','high_dest']\n",
    "with arcpy.da.SearchCursor(table,fieldname) as cursor: # use SearchCursor to iterate through the table\n",
    "    for row in cursor: \n",
    "        array.append(row[10])#calculate for one station\n",
    "    mean=np.mean(array) # calculate mean\n",
    "    sd=np.std(array) # calculate standard deviation\n",
    "    print(\"mean:\",mean,\"standarddeviaiton:\",sd)\n",
    "\n",
    "threshold = 3 #set threshold to 3 to detect outlier\n",
    "outlier = []# empty list to store outlier\n",
    "  \n",
    "fields=['station','value','zscore']\n",
    "icur=arcpy.da.InsertCursor(\"AccuracyResult_Pop\",fields)\n",
    "with arcpy.da.SearchCursor(table,fieldname) as cursor: # iterate throught the table table again to calculate z score\n",
    "    for row in cursor:\n",
    "        zscore=(row[10]-mean)/sd #calculate z score\n",
    "        if zscore > threshold:#compare z score with threshold \n",
    "            outlier.append(zscore) # append outlier to the list\n",
    "\n",
    "        #print('z score is:',row[10],row[4],zscore)\n",
    "        #icur.insertRow((row[4],row[10],zscore))\n",
    "    \n",
    "print('outlier in dataset is', outlier)\n",
    "print('outlier in dataset', len(outlier))"
   ]
  },
  {
   "cell_type": "markdown",
   "metadata": {},
   "source": [
    "### Z-Score for Gravity Model Bugs"
   ]
  },
  {
   "cell_type": "code",
   "execution_count": 22,
   "metadata": {},
   "outputs": [
    {
     "data": {
      "text/html": [
       "<div class='gpresult'><h2>Messages</h2><div id='messages' data-messages='[\"Start Time: Thursday, May 12, 2022 5:44:48 PM\",\"Adding zscore to AccuracyResult_Bug...\",\"Succeeded at Thursday, May 12, 2022 5:44:48 PM (Elapsed Time: 0.10 seconds)\"]' data-show='true'><div id = 'default' /></div></div>"
      ],
      "text/plain": [
       "<Result 'AccuracyResult_Bug'>"
      ]
     },
     "execution_count": 22,
     "metadata": {},
     "output_type": "execute_result"
    }
   ],
   "source": [
    "#create a table to summarize the accuracy assessment result\n",
    "arcpy.management.CreateTable(r\"C:\\Users\\zhux1\\OneDrive\\Desktop\\GIS5572\\FinalProject\\FinalProject\\FinalProject.gdb\",\"AccuracyResult_Bug\")\n",
    "\n",
    "arcpy.management.AddField(\"AccuracyResult_Bug\",\"station\",\"TEXT\")\n",
    "arcpy.management.AddField(\"AccuracyResult_Bug\",\"value \",\"TEXT\") \n",
    "arcpy.management.AddField(\"AccuracyResult_Bug\",\"zscore\",\"FLOAT\") "
   ]
  },
  {
   "cell_type": "code",
   "execution_count": 31,
   "metadata": {},
   "outputs": [
    {
     "name": "stdout",
     "output_type": "stream",
     "text": [
      "mean: 0.0009749689300488635 standarddeviaiton: 0.005486471638161385\n",
      "outlier in dataset is [49.92114492069751, 3.4314904954945367, 3.258201754733159, 3.3157092986718593, 4.1003782711961945]\n",
      "outlier in dataset 5\n"
     ]
    }
   ],
   "source": [
    "array=[]#empty list to store z score\n",
    "table=r'C:\\Users\\zhux1\\OneDrive\\Desktop\\GIS5572\\FinalProject\\FinalProject\\FinalProject.gdb\\GravityModel_Bugs'\n",
    "fieldname=['GNIS_FEATU','FEATURE_NA','CTU_CLASS','COUNTY_NAM','station','name','elevation','maxtemp','nlcd_land','attractive','GHCND_CA00','GHCND_USC0','GHCND_US_1','GHCND_US_2','GHCND_US_3','GHCND_US_4','GHCND_US_5','GHCND_US_6','GHCND_US_7','GHCND_US_8','GHCND_US_9','GHCND_U_10','GHCND_U_11','GHCND_U_12','GHCND_U_13','GHCND_U_14','GHCND_U_15','GHCND_U_16','GHCND_U_17','GHCND_U_18','GHCND_U_19','GHCND_U_20','GHCND_U_21','GHCND_U_22','GHCND_U_23','GHCND_U_24','GHCND_U_25','GHCND_U_26','GHCND_U_27','GHCND_U_28','GHCND_U_29','GHCND_U_30','GHCND_U_31','GHCND_U_32','high_dest']\n",
    "with arcpy.da.SearchCursor(table,fieldname) as cursor: # use SearchCursor to iterate through the table\n",
    "    for row in cursor:\n",
    "        array.append(row[10])#calculate for one station\n",
    "    mean=np.mean(array)# calculate mean\n",
    "    sd=np.std(array)# calculate standard deviation\n",
    "    print(\"mean:\",mean,\"standarddeviaiton:\",sd)\n",
    "\n",
    "threshold = 3 #set threshold to 3 to detect outlier\n",
    "outlier = [] # empty list to store outlier\n",
    "  \n",
    "\n",
    "fields=['station','value','zscore']\n",
    "icur=arcpy.da.InsertCursor(\"AccuracyResult_Bug\",fields)\n",
    "with arcpy.da.SearchCursor(table,fieldname) as cursor: # iterate throught the table table again to calculate z score\n",
    "    for row in cursor:\n",
    "        zscore=(row[10]-mean)/sd #calculate z score\n",
    "        if zscore > threshold: #compare z score with threshold \n",
    "            outlier.append(zscore) # append outlier to the list\n",
    "\n",
    "        #print('z score is:',row[10],row[4],zscore)\n",
    "        icur.insertRow((row[4],row[10],zscore))\n",
    "    \n",
    "print('outlier in dataset is', outlier)\n",
    "print('outlier in dataset', len(outlier))"
   ]
  },
  {
   "cell_type": "markdown",
   "metadata": {},
   "source": [
    "### Z-Score for Gravity Model Combined Attrativeness"
   ]
  },
  {
   "cell_type": "code",
   "execution_count": 24,
   "metadata": {},
   "outputs": [
    {
     "data": {
      "text/html": [
       "<div class='gpresult'><h2>Messages</h2><div id='messages' data-messages='[\"Start Time: Thursday, May 12, 2022 5:46:46 PM\",\"Adding zscore to AccuracyResult_Combined_Attractiveness...\",\"Succeeded at Thursday, May 12, 2022 5:46:46 PM (Elapsed Time: 0.11 seconds)\"]' data-show='true'><div id = 'default' /></div></div>"
      ],
      "text/plain": [
       "<Result 'AccuracyResult_Combined_Attractiveness'>"
      ]
     },
     "execution_count": 24,
     "metadata": {},
     "output_type": "execute_result"
    }
   ],
   "source": [
    "#create a table to summarize the accuracy assessment result\n",
    "arcpy.management.CreateTable(r\"C:\\Users\\zhux1\\OneDrive\\Desktop\\GIS5572\\FinalProject\\FinalProject\\FinalProject.gdb\",\"AccuracyResult_Combined_Attractiveness\")\n",
    "\n",
    "arcpy.management.AddField(\"AccuracyResult_Combined_Attractiveness\",\"station\",\"TEXT\")\n",
    "arcpy.management.AddField(\"AccuracyResult_Combined_Attractiveness\",\"value \",\"TEXT\") \n",
    "arcpy.management.AddField(\"AccuracyResult_Combined_Attractiveness\",\"zscore\",\"FLOAT\") "
   ]
  },
  {
   "cell_type": "code",
   "execution_count": 30,
   "metadata": {},
   "outputs": [
    {
     "name": "stdout",
     "output_type": "stream",
     "text": [
      "mean: 0.010273272105356264 standarddeviaiton: 0.048160981287165505\n",
      "outlier in dataset is [3.0686752003541224, 10.43021739844637, 7.570218192913019, 4.245574930781852, 4.734143297956516, 16.046234411560654, 5.189816306841996, 3.310928167635526, 11.474329417928844, 3.7461136177414893, 4.688043463180274, 6.291484638652737, 3.726694086286692, 4.868365539929868, 4.909963712028032, 5.567195154059203, 7.746311002451765, 3.846072660816115, 3.012082251474023, 3.7955658303074884, 3.6555552739861, 7.213862527012713, 7.600265443702438, 8.829400678884518, 14.304707704953625, 9.151085390261624, 5.010648762693565, 5.185393479953775, 7.067821696551595, 4.122099278000983, 3.9354047324852304, 3.0478931673421266, 6.259720255118308, 13.338694864110654, 11.880297577805406, 5.70408534758931, 3.327143414234086, 5.113182060521447, 3.0685993900632518, 16.969836634878597, 7.245487631968909, 12.265160970215964, 3.7332581721203058]\n",
      "outlier in dataset is 43\n"
     ]
    }
   ],
   "source": [
    "array=[]#empty list to store z score\n",
    "table=r'C:\\Users\\zhux1\\OneDrive\\Desktop\\GIS5572\\FinalProject\\FinalProject\\FinalProject.gdb\\GravityModel_Combined'\n",
    "fieldname=['FEATURE_NA','CTU_CLASS','COUNTY_NAM','station','name','elevation','maxtemp','nlcd_land','attractive','GHCND_CA00','GHCND_USC0','GHCND_US_1','GHCND_US_2','GHCND_US_3','GHCND_US_4','GHCND_US_5','GHCND_US_6','GHCND_US_7','GHCND_US_8','GHCND_US_9','GHCND_U_10','GHCND_U_11','GHCND_U_12','GHCND_U_13','GHCND_U_14','GHCND_U_15','GHCND_U_16','GHCND_U_17','GHCND_U_18','GHCND_U_19','GHCND_U_20','GHCND_U_21','GHCND_U_22','GHCND_U_23','GHCND_U_24','GHCND_U_25','GHCND_U_26','GHCND_U_27','GHCND_U_28','GHCND_U_29','GHCND_U_30','GHCND_U_31','GHCND_U_32','high_dest']\n",
    "with arcpy.da.SearchCursor(table,fieldname) as cursor: # use SearchCursor to iterate through the table\n",
    "    for row in cursor:\n",
    "        array.append(row[10])#calculate for one station\n",
    "    mean=np.mean(array) # calculate mean\n",
    "    sd=np.std(array) # calculate standard deviation\n",
    "    print(\"mean:\",mean,\"standarddeviaiton:\",sd)\n",
    "\n",
    "threshold = 3 #set threshold to 3 to detect outlier\n",
    "outlier = [] # empty list to store outlier\n",
    "\n",
    "fields=['station','value','zscore']\n",
    "icur=arcpy.da.InsertCursor(\"AccuracyResult_Combined_Attractiveness\",fields)\n",
    "with arcpy.da.SearchCursor(table,fieldname) as cursor:  # iterate throught the table table again to calculate z score\n",
    "    for row in cursor:\n",
    "        zscore=(row[10]-mean)/sd #calculate z score\n",
    "        if zscore > threshold: #compare z score with threshold \n",
    "            outlier.append(zscore) # append outlier to the list\n",
    "\n",
    "        #print('z score is:',row[10],row[4],zscore)\n",
    "        icur.insertRow((row[4],row[10],zscore))\n",
    "    \n",
    "print('outlier in dataset is', outlier)\n",
    "print('outlier in dataset', len(outlier))\n"
   ]
  },
  {
   "cell_type": "code",
   "execution_count": null,
   "metadata": {},
   "outputs": [],
   "source": []
  },
  {
   "cell_type": "markdown",
   "metadata": {},
   "source": [
    "## Push the Result to PostGIS Database"
   ]
  },
  {
   "cell_type": "markdown",
   "metadata": {},
   "source": [
    "### GravityModel_Population"
   ]
  },
  {
   "cell_type": "code",
   "execution_count": null,
   "metadata": {},
   "outputs": [],
   "source": [
    "import psycopg2\n",
    "connection=psycopg2.connect(\"dbname='lab3' user='postgres' host='35.192.52.194' password='postgres'\")\n",
    "cur=connection.cursor()\n",
    "#connect to database lab3\n",
    "connection=psycopg2.connect(\"dbname='lab3' user='postgres' host='35.192.52.194' password='postgres'\")\n",
    "cursor=connection.cursor()\n",
    "#create an empty table and drop table if exists for qaqc data\n",
    "cursor.execute(\"DROP TABLE IF EXISTS GravityModel_Pop\")\n",
    "#Create table\n",
    "cursor.execute(\"\"\"\n",
    "        CREATE TABLE GravityModel_Pop\n",
    "         (\n",
    "\n",
    "          FEATURE_NA text,\n",
    "         CTU_CLASS text,\n",
    "         COUNTY_NAM text,\n",
    "         station text,\n",
    "         name text,\n",
    "         elevation float,\n",
    "         maxtemp float,\n",
    "         nlcd_land  text,\n",
    "         attractive float,\n",
    "         GHCND_CA00 float,\n",
    "         GHCND_USC0 float,\n",
    "         GHCND_US_1 float,\n",
    "         GHCND_US_2 float,\n",
    "         GHCND_US_3 float,\n",
    "         GHCND_US_4 float,\n",
    "         GHCND_US_5 float,\n",
    "         GHCND_US_6 float,\n",
    "         GHCND_US_7 float,\n",
    "         GHCND_US_8 float,\n",
    "         GHCND_US_9 float,\n",
    "         GHCND_U_10 float,\n",
    "         GHCND_U_11 float,\n",
    "         GHCND_U_12 float,\n",
    "         GHCND_U_13 float,\n",
    "         GHCND_U_14 float,\n",
    "         GHCND_U_15 float,\n",
    "         GHCND_U_16 float,\n",
    "         GHCND_U_17 float,\n",
    "         GHCND_U_18 float,\n",
    "         GHCND_U_19 float,\n",
    "         GHCND_U_20 float,\n",
    "         GHCND_U_21 float,\n",
    "         GHCND_U_22 float,\n",
    "         GHCND_U_23 float,\n",
    "         GHCND_U_24 float,\n",
    "         GHCND_U_25 float,\n",
    "         GHCND_U_26 float,\n",
    "         GHCND_U_27 float,\n",
    "         GHCND_U_28 float,\n",
    "         GHCND_U_29 float,\n",
    "         GHCND_U_30 float,\n",
    "         GHCND_U_31 float,\n",
    "         GHCND_U_32 float,\n",
    "         high_dest text,\n",
    "         geom geometry\n",
    "         \n",
    "         )\n",
    "        \n",
    "\"\"\")\n",
    "\n",
    "testtest=arcpy.da.SearchCursor(fc,[\"SHAPE@WKT\"])\n",
    "\n",
    "for row in testtest:\n",
    "    print (row)\n",
    "    geom=row \n",
    "    #print (geom)\n",
    "    \n",
    "with arcpy.da.SearchCursor(fc,fieldname) as da_cursor:\n",
    "        shp=arcpy.da.SearchCursor(fc,[\"SHAPE@WKT\"])\n",
    "        for row in shp:\n",
    "            \n",
    "            for row1 in da_cursor:\n",
    "                #cursor.execute(\"INSERT INTO elevation_mn(OBJECTID,Shape,grid_code)VALUES(\"row1[0] \", \" row1[1] \", \"  row1[2]\")\")\n",
    "                cursor.execute (\"\"\"INSERT INTO GravityModel_Pop (FEATURE_NA,CTU_CLASS,COUNTY_NAM,station,name,elevation,maxtemp,nlcd_land,attractive,GHCND_CA00,GHCND_USC0,GHCND_US_1,GHCND_US_2,GHCND_US_3,GHCND_US_4,GHCND_US_5,GHCND_US_6,GHCND_US_7,GHCND_US_8,GHCND_US_9,GHCND_U_10,GHCND_U_11,GHCND_U_12,GHCND_U_13,GHCND_U_14,GHCND_U_15,GHCND_U_16,GHCND_U_17,GHCND_U_18,GHCND_U_19,GHCND_U_20,GHCND_U_21,GHCND_U_22,GHCND_U_23,GHCND_U_24,GHCND_U_25,GHCND_U_26,GHCND_U_27,GHCND_U_28,GHCND_U_29,GHCND_U_30,GHCND_U_31,GHCND_U_32,high_dest, geom) VALUES(%s,%s,%s,%s,%s,%s,%s,%s,%s,%s,%s,%s,%s,%s,%s,%s,%s,%s,%s,%s,%s,%s,%s,%s,%s,%s,%s,%s,%s,%s,%s,%s,,%s,%s,%s,%s,%s,%s,(ST_GeomFromText(%s,4326));\"\"\",\n",
    "                           (row,row1[1],row1[2],row1[3],row1[4],row1[5],row1[6],row1[7],row1[8],row1[9],row1[10],row1[11],row1[12],row1[13],row1[14],row1[15],row1[16],row1[17],row1[18],row1[19],row1[20],row1[21],row1[22],row1[23],row1[24],row1[25],row1[26],row1[27],row1[28],row1[29],row1[30],row1[31],row1[32],row1[33],row1[34],row1[35],row1[36],row1[37],row1[38],row1[39],row1[40],row1[41],row1[42],row1[43],row1[44],row1[45],row1[46],row1[47],row[48]))        \n",
    "connection.commit()\n",
    "connection.close()"
   ]
  },
  {
   "cell_type": "markdown",
   "metadata": {},
   "source": [
    "### GravityModel_Bugs"
   ]
  },
  {
   "cell_type": "code",
   "execution_count": null,
   "metadata": {},
   "outputs": [],
   "source": [
    "connection=psycopg2.connect(\"dbname='lab3' user='postgres' host='35.192.52.194' password='postgres'\")\n",
    "cur=connection.cursor()\n",
    "#connect to database lab3\n",
    "connection=psycopg2.connect(\"dbname='lab3' user='postgres' host='35.192.52.194' password='postgres'\")\n",
    "cursor=connection.cursor()\n",
    "#create an empty table and drop table if exists for qaqc data\n",
    "cursor.execute(\"DROP TABLE IF EXISTS GravityModel_Bugs\")\n",
    "#Create table\n",
    "cursor.execute(\"\"\"\n",
    "        CREATE TABLE GravityModel_Bugs\n",
    "         (\n",
    "\n",
    "          FEATURE_NA text,\n",
    "         CTU_CLASS text,\n",
    "         COUNTY_NAM text,\n",
    "         station text,\n",
    "         name text,\n",
    "         elevation float,\n",
    "         maxtemp float,\n",
    "         nlcd_land  text,\n",
    "         attractive float,\n",
    "         GHCND_CA00 float,\n",
    "         GHCND_USC0 float,\n",
    "         GHCND_US_1 float,\n",
    "         GHCND_US_2 float,\n",
    "         GHCND_US_3 float,\n",
    "         GHCND_US_4 float,\n",
    "         GHCND_US_5 float,\n",
    "         GHCND_US_6 float,\n",
    "         GHCND_US_7 float,\n",
    "         GHCND_US_8 float,\n",
    "         GHCND_US_9 float,\n",
    "         GHCND_U_10 float,\n",
    "         GHCND_U_11 float,\n",
    "         GHCND_U_12 float,\n",
    "         GHCND_U_13 float,\n",
    "         GHCND_U_14 float,\n",
    "         GHCND_U_15 float,\n",
    "         GHCND_U_16 float,\n",
    "         GHCND_U_17 float,\n",
    "         GHCND_U_18 float,\n",
    "         GHCND_U_19 float,\n",
    "         GHCND_U_20 float,\n",
    "         GHCND_U_21 float,\n",
    "         GHCND_U_22 float,\n",
    "         GHCND_U_23 float,\n",
    "         GHCND_U_24 float,\n",
    "         GHCND_U_25 float,\n",
    "         GHCND_U_26 float,\n",
    "         GHCND_U_27 float,\n",
    "         GHCND_U_28 float,\n",
    "         GHCND_U_29 float,\n",
    "         GHCND_U_30 float,\n",
    "         GHCND_U_31 float,\n",
    "         GHCND_U_32 float,\n",
    "         high_dest text,\n",
    "         geom geometry\n",
    "         \n",
    "         )\n",
    "        \n",
    "\"\"\")\n",
    "\n",
    "testtest=arcpy.da.SearchCursor(fc,[\"SHAPE@WKT\"])\n",
    "\n",
    "for row in testtest:\n",
    "    print (row)\n",
    "    geom=row \n",
    "    #print (geom)\n",
    "    \n",
    "with arcpy.da.SearchCursor(fc,fieldname) as da_cursor:\n",
    "        shp=arcpy.da.SearchCursor(fc,[\"SHAPE@WKT\"])\n",
    "        for row in shp:\n",
    "            \n",
    "            for row1 in da_cursor:\n",
    "                #cursor.execute(\"INSERT INTO elevation_mn(OBJECTID,Shape,grid_code)VALUES(\"row1[0] \", \" row1[1] \", \"  row1[2]\")\")\n",
    "                cursor.execute (\"\"\"INSERT INTO GravityModel_Bugs (FEATURE_NA,CTU_CLASS,COUNTY_NAM,station,name,elevation,maxtemp,nlcd_land,attractive,GHCND_CA00,GHCND_USC0,GHCND_US_1,GHCND_US_2,GHCND_US_3,GHCND_US_4,GHCND_US_5,GHCND_US_6,GHCND_US_7,GHCND_US_8,GHCND_US_9,GHCND_U_10,GHCND_U_11,GHCND_U_12,GHCND_U_13,GHCND_U_14,GHCND_U_15,GHCND_U_16,GHCND_U_17,GHCND_U_18,GHCND_U_19,GHCND_U_20,GHCND_U_21,GHCND_U_22,GHCND_U_23,GHCND_U_24,GHCND_U_25,GHCND_U_26,GHCND_U_27,GHCND_U_28,GHCND_U_29,GHCND_U_30,GHCND_U_31,GHCND_U_32,high_dest, geom) VALUES(%s,%s,%s,%s,%s,%s,%s,%s,%s,%s,%s,%s,%s,%s,%s,%s,%s,%s,%s,%s,%s,%s,%s,%s,%s,%s,%s,%s,%s,%s,%s,%s,,%s,%s,%s,%s,%s,%s,(ST_GeomFromText(%s,4326));\"\"\",\n",
    "                           (row,row1[1],row1[2],row1[3],row1[4],row1[5],row1[6],row1[7],row1[8],row1[9],row1[10],row1[11],row1[12],row1[13],row1[14],row1[15],row1[16],row1[17],row1[18],row1[19],row1[20],row1[21],row1[22],row1[23],row1[24],row1[25],row1[26],row1[27],row1[28],row1[29],row1[30],row1[31],row1[32],row1[33],row1[34],row1[35],row1[36],row1[37],row1[38],row1[39],row1[40],row1[41],row1[42],row1[43],row1[44],row1[45],row1[46],row1[47],row[48]))        \n",
    "connection.commit()\n",
    "connection.close()"
   ]
  },
  {
   "cell_type": "code",
   "execution_count": null,
   "metadata": {},
   "outputs": [],
   "source": [
    "connection=psycopg2.connect(\"dbname='lab3' user='postgres' host='35.192.52.194' password='postgres'\")\n",
    "cur=connection.cursor()\n",
    "#connect to database lab3\n",
    "connection=psycopg2.connect(\"dbname='lab3' user='postgres' host='35.192.52.194' password='postgres'\")\n",
    "cursor=connection.cursor()\n",
    "#create an empty table and drop table if exists for qaqc data\n",
    "cursor.execute(\"DROP TABLE IF EXISTS GravityModel_Combined\")\n",
    "#Create table\n",
    "cursor.execute(\"\"\"\n",
    "        CREATE TABLE GravityModel_Combined\n",
    "         (\n",
    "\n",
    "          FEATURE_NA text,\n",
    "         CTU_CLASS text,\n",
    "         COUNTY_NAM text,\n",
    "         station text,\n",
    "         name text,\n",
    "         elevation float,\n",
    "         maxtemp float,\n",
    "         nlcd_land  text,\n",
    "         attractive float,\n",
    "         GHCND_CA00 float,\n",
    "         GHCND_USC0 float,\n",
    "         GHCND_US_1 float,\n",
    "         GHCND_US_2 float,\n",
    "         GHCND_US_3 float,\n",
    "         GHCND_US_4 float,\n",
    "         GHCND_US_5 float,\n",
    "         GHCND_US_6 float,\n",
    "         GHCND_US_7 float,\n",
    "         GHCND_US_8 float,\n",
    "         GHCND_US_9 float,\n",
    "         GHCND_U_10 float,\n",
    "         GHCND_U_11 float,\n",
    "         GHCND_U_12 float,\n",
    "         GHCND_U_13 float,\n",
    "         GHCND_U_14 float,\n",
    "         GHCND_U_15 float,\n",
    "         GHCND_U_16 float,\n",
    "         GHCND_U_17 float,\n",
    "         GHCND_U_18 float,\n",
    "         GHCND_U_19 float,\n",
    "         GHCND_U_20 float,\n",
    "         GHCND_U_21 float,\n",
    "         GHCND_U_22 float,\n",
    "         GHCND_U_23 float,\n",
    "         GHCND_U_24 float,\n",
    "         GHCND_U_25 float,\n",
    "         GHCND_U_26 float,\n",
    "         GHCND_U_27 float,\n",
    "         GHCND_U_28 float,\n",
    "         GHCND_U_29 float,\n",
    "         GHCND_U_30 float,\n",
    "         GHCND_U_31 float,\n",
    "         GHCND_U_32 float,\n",
    "         high_dest text,\n",
    "         geom geometry\n",
    "         \n",
    "         )\n",
    "        \n",
    "\"\"\")\n",
    "\n",
    "testtest=arcpy.da.SearchCursor(fc,[\"SHAPE@WKT\"])\n",
    "for row in testtest:\n",
    "    print (row)\n",
    "    geom=row \n",
    "    #print (geom)\n",
    "    \n",
    "with arcpy.da.SearchCursor(fc,fieldname) as da_cursor:\n",
    "        shp=arcpy.da.SearchCursor(fc,[\"SHAPE@WKT\"])\n",
    "        for row in shp:\n",
    "            for row1 in da_cursor:\n",
    "                #cursor.execute(\"INSERT INTO elevation_mn(OBJECTID,Shape,grid_code)VALUES(\"row1[0] \", \" row1[1] \", \"  row1[2]\")\")\n",
    "                cursor.execute (\"\"\"INSERT INTO GravityModel_Combined (FEATURE_NA,CTU_CLASS,COUNTY_NAM,station,name,elevation,maxtemp,nlcd_land,attractive,GHCND_CA00,GHCND_USC0,GHCND_US_1,GHCND_US_2,GHCND_US_3,GHCND_US_4,GHCND_US_5,GHCND_US_6,GHCND_US_7,GHCND_US_8,GHCND_US_9,GHCND_U_10,GHCND_U_11,GHCND_U_12,GHCND_U_13,GHCND_U_14,GHCND_U_15,GHCND_U_16,GHCND_U_17,GHCND_U_18,GHCND_U_19,GHCND_U_20,GHCND_U_21,GHCND_U_22,GHCND_U_23,GHCND_U_24,GHCND_U_25,GHCND_U_26,GHCND_U_27,GHCND_U_28,GHCND_U_29,GHCND_U_30,GHCND_U_31,GHCND_U_32,high_dest, geom) VALUES(%s,%s,%s,%s,%s,%s,%s,%s,%s,%s,%s,%s,%s,%s,%s,%s,%s,%s,%s,%s,%s,%s,%s,%s,%s,%s,%s,%s,%s,%s,%s,%s,,%s,%s,%s,%s,%s,%s,(ST_GeomFromText(%s,4326));\"\"\",\n",
    "                           (row,row1[1],row1[2],row1[3],row1[4],row1[5],row1[6],row1[7],row1[8],row1[9],row1[10],row1[11],row1[12],row1[13],row1[14],row1[15],row1[16],row1[17],row1[18],row1[19],row1[20],row1[21],row1[22],row1[23],row1[24],row1[25],row1[26],row1[27],row1[28],row1[29],row1[30],row1[31],row1[32],row1[33],row1[34],row1[35],row1[36],row1[37],row1[38],row1[39],row1[40],row1[41],row1[42],row1[43],row1[44],row1[45],row1[46],row1[47],row[48]))        \n",
    "connection.commit()\n",
    "connection.close()"
   ]
  }
 ],
 "metadata": {
  "kernelspec": {
   "display_name": "Python 3 (ipykernel)",
   "language": "python",
   "name": "python3"
  },
  "language_info": {
   "codemirror_mode": {
    "name": "ipython",
    "version": 3
   },
   "file_extension": ".py",
   "mimetype": "text/x-python",
   "name": "python",
   "nbconvert_exporter": "python",
   "pygments_lexer": "ipython3",
   "version": "3.9.10"
  }
 },
 "nbformat": 4,
 "nbformat_minor": 2
}
